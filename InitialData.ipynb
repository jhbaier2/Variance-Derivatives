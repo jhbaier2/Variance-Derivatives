{
 "cells": [
  {
   "cell_type": "code",
   "execution_count": 3,
   "metadata": {},
   "outputs": [],
   "source": [
    "import numpy as np\n",
    "import pandas as pd\n",
    "import DataParser"
   ]
  },
  {
   "cell_type": "code",
   "execution_count": 4,
   "metadata": {},
   "outputs": [],
   "source": [
    "options_dir = \"C:/Users/bugin/Desktop/Projects/Variance-Derivatives/20190107/options.csv\"\n",
    "rates_dir = \"C:/Users/bugin/Desktop/Projects/Variance-Derivatives/20190107/rates.csv\"\n",
    "\n",
    "options_data = DataParser.GetOptionsData(options_dir)\n",
    "rates_data = DataParser.GetRateData(rates_dir)\n",
    "del options_dir, rates_dir"
   ]
  },
  {
   "cell_type": "markdown",
   "metadata": {},
   "source": [
    "Filter options data to a one month expiration"
   ]
  },
  {
   "cell_type": "code",
   "execution_count": 5,
   "metadata": {},
   "outputs": [],
   "source": [
    "options_data.EXPIRY = options_data.EXPIRY.apply(lambda x: round(x, 6))\n",
    "options_mth = options_data[options_data.EXPIRY <= .083333]"
   ]
  },
  {
   "cell_type": "code",
   "execution_count": 6,
   "metadata": {},
   "outputs": [],
   "source": [
    "import matplotlib.pyplot as plt\n",
    "import math"
   ]
  },
  {
   "cell_type": "markdown",
   "metadata": {},
   "source": [
    "Equally weighted options graphs"
   ]
  },
  {
   "cell_type": "code",
   "execution_count": 7,
   "metadata": {},
   "outputs": [],
   "source": [
    "St = pd.Series(range(2000, 3500)) #set date frame of stock prices\n",
    "#d1 as input to variance function V\n",
    "d1 = lambda S,K,sigma,tau: (np.log(S/K)+(sigma**2 * tau)/2)/(sigma * np.sqrt(tau))"
   ]
  },
  {
   "cell_type": "code",
   "execution_count": 8,
   "metadata": {},
   "outputs": [],
   "source": [
    "import scipy as sp"
   ]
  },
  {
   "cell_type": "code",
   "execution_count": 9,
   "metadata": {},
   "outputs": [],
   "source": [
    "maxVar = pd.DataFrame(sp.zeros(len(options_data))) #empty dataframe for efficiency"
   ]
  },
  {
   "cell_type": "markdown",
   "metadata": {},
   "source": [
    "for i in range(maxVar.shape[0]):\n",
    "    maxVar[i] = max((St * np.sqrt(options_data.EXPIRY[i]) * \n",
    "                     np.exp(-d1(St, options_data.STRIKE[i], options_data.IVOL[i], options_data.EXPIRY[i]\n",
    "                     )**2 /2))/\n",
    "                    (2 * options_data.EXPIRY[i] * math.sqrt(2 * math.pi)))\n",
    "#too slow"
   ]
  },
  {
   "cell_type": "code",
   "execution_count": 2,
   "metadata": {},
   "outputs": [],
   "source": [
    "import numba"
   ]
  },
  {
   "cell_type": "code",
   "execution_count": 10,
   "metadata": {},
   "outputs": [],
   "source": [
    "@numba.jit\n",
    "def var_calc(S, K, sigma, tau): #s - aray, else scalars\n",
    "    var = np.empty(len(S))\n",
    "    #def d1(S, K, sigma, tau):\n",
    "    d1 = (np.log(S/K) + (sigma**2 * tau)/2)/(sigma * np.sqrt(tau))\n",
    "    #    return value\n",
    "    \n",
    "    var = max((S * np.sqrt(tau) * np.exp(-d1**2 /2))/(2 * tau * math.sqrt(2 * math.pi)))\n",
    "    return var"
   ]
  },
  {
   "cell_type": "code",
   "execution_count": null,
   "metadata": {},
   "outputs": [],
   "source": [
    "#St = St.values\n",
    "for i in range(maxVar.shape[0]):\n",
    "    maxVar[i] = var_calc(St, options_data.STRIKE[i], options_data.IVOL[i], options_data.EXPIRY[i])"
   ]
  },
  {
   "cell_type": "code",
   "execution_count": null,
   "metadata": {},
   "outputs": [],
   "source": [
    "plt.plot(St, maxVar)\n",
    "plt.xlabel('Stock Price')\n",
    "plt.ylabel('Max Variance')"
   ]
  },
  {
   "cell_type": "code",
   "execution_count": null,
   "metadata": {},
   "outputs": [],
   "source": [
    "#weighted\n",
    "#once we have the unweighted graph append new columb to maxVar that is V_i/K_i^2\n",
    "#graph as new Y"
   ]
  },
  {
   "cell_type": "code",
   "execution_count": null,
   "metadata": {},
   "outputs": [],
   "source": [
    "maxVar['Var_weighted'] = maxVar[0] / options_data.STRIKE"
   ]
  }
 ],
 "metadata": {
  "kernelspec": {
   "display_name": "Python 3",
   "language": "python",
   "name": "python3"
  },
  "language_info": {
   "codemirror_mode": {
    "name": "ipython",
    "version": 3
   },
   "file_extension": ".py",
   "mimetype": "text/x-python",
   "name": "python",
   "nbconvert_exporter": "python",
   "pygments_lexer": "ipython3",
   "version": "3.7.0"
  }
 },
 "nbformat": 4,
 "nbformat_minor": 2
}
